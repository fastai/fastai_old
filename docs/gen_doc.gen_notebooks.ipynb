{
 "cells": [
  {
   "cell_type": "markdown",
   "metadata": {},
   "source": [
    "# gen_doc.gen_notebooks"
   ]
  },
  {
   "cell_type": "markdown",
   "metadata": {},
   "source": [
    "This module contains the scripts and API to auto-generate or update a documentation notebook skeleton from a given .py file or a full package. It is not expected you'd use this skeleton as your final docs - you should add markdown, examples, etc to it. The skeleton just has a minimal list of exported symbols.\n",
    "\n",
    "`sgen_notebooks` is a script that transforms a given module into a notebook skeleton. The usage is\n",
    "\n",
    "```\n",
    "python -m sgen_notebooks package path_to_result [--update]\n",
    "```\n",
    " - **package** is the package you want to write the documentation of. Note that if the package isn't installed in your environment, you need to execute to execute the script in a place where package is a directory (or make a simlink to it). The script will search thourgh all the subdirectories to create all the relevant notebooks.\n",
    " - **path_to_result** is a directory where you want those notebooks. The script will auto-execute them, so this directory should contain the file nbdoc.py from this package. If the module you are documenting isn't installed, you will also need to have a simlink to it in your path_to_result folder.\n",
    " - if the flag **--update** is added, the script will update the notebooks (to reflect the addition of new functions or new arguments).\n",
    "\n",
    "Alternatively, you can access the same functionality through the module API, documented below.\n",
    "\n",
    "**Important note:** The notebooks automatically generated or updated need to be trusted before you can see the results in the output cells. To trust a notebook, click on File, then Trust notebook.\n",
    "\n",
    "This module also contains the scripts and API to convert the documentation notebooks into HTML, which is the format used for the final documentation site."
   ]
  },
  {
   "cell_type": "markdown",
   "metadata": {},
   "source": [
    "# Table of Contents\n",
    " <p><div class=\"lev1 toc-item\"><a href=\"#gen_doc.gen_notebooks\" data-toc-modified-id=\"gen_doc.gen_notebooks-1\"><span class=\"toc-item-num\">1&nbsp;&nbsp;</span>gen_doc.gen_notebooks</a></div><div class=\"lev1 toc-item\"><a href=\"#Installation\" data-toc-modified-id=\"Installation-2\"><span class=\"toc-item-num\">2&nbsp;&nbsp;</span>Installation</a></div><div class=\"lev1 toc-item\"><a href=\"#Convert-modules-into-notebook-skeleton\" data-toc-modified-id=\"Convert-modules-into-notebook-skeleton-3\"><span class=\"toc-item-num\">3&nbsp;&nbsp;</span>Convert modules into notebook skeleton</a></div><div class=\"lev4 toc-item\"><a href=\"#-a-id-create_module_page-a-create_module_page-em-mod-em-em-dest_path-em-em-force-em-false-\" data-toc-modified-id=\"-a-id-create_module_page-a-create_module_page-em-mod-em-em-dest_path-em-em-force-em-false--3001\"><span class=\"toc-item-num\">3.0.0.1&nbsp;&nbsp;</span><a id=\"create_module_page\"></a><strong>create_module_page</strong>(<em>mod</em>, <em>dest_path</em>, =False)</a></div><div class=\"lev4 toc-item\"><a href=\"#-a-id-update_module_page-a-update_module_page-em-mod-em-em-dest_path-em-\" data-toc-modified-id=\"-a-id-update_module_page-a-update_module_page-em-mod-em-em-dest_path-em--3002\"><span class=\"toc-item-num\">3.0.0.2&nbsp;&nbsp;</span><a id=\"update_module_page\"></a><strong>update_module_page</strong>(<em>mod</em>, )</a></div><div class=\"lev4 toc-item\"><a href=\"#-a-id-generate_all-a-generate_all-em-pkg_name-em-em-dest_path-em-em-exclude-em-none-\" data-toc-modified-id=\"-a-id-generate_all-a-generate_all-em-pkg_name-em-em-dest_path-em-em-exclude-em-none--3003\"><span class=\"toc-item-num\">3.0.0.3&nbsp;&nbsp;</span><a id=\"generate_all\"></a><strong>generate_all</strong>(<em>pkg_name</em>, <em>dest_path</em>, =None)</a></div><div class=\"lev4 toc-item\"><a href=\"#-a-id-update_all-a-update_all-em-mod_name-em-em-dest_path-em-em-exclude-em-pycache-ipynb_checkpoints-\" data-toc-modified-id=\"-a-id-update_all-a-update_all-em-mod_name-em-em-dest_path-em-em-exclude-em-pycache-ipynb_checkpoints--3004\"><span class=\"toc-item-num\">3.0.0.4&nbsp;&nbsp;</span><a id=\"update_all\"></a><strong>update_all</strong>(<em>mod_name</em>, <em>dest_path</em>, <em>exclude</em>: '']=['.ipynb_checkpoints',)</a></div><div class=\"lev1 toc-item\"><a href=\"#Add-documentation\" data-toc-modified-id=\"Add-documentation-4\"><span class=\"toc-item-num\">4&nbsp;&nbsp;</span>Add documentation</a></div><div class=\"lev1 toc-item\"><a href=\"#Convert-notebook-to-html\" data-toc-modified-id=\"Convert-notebook-to-html-5\"><span class=\"toc-item-num\">5&nbsp;&nbsp;</span>Convert notebook to html</a></div>"
   ]
  },
  {
   "cell_type": "code",
   "execution_count": null,
   "metadata": {
    "hide_input": true
   },
   "outputs": [],
   "source": [
    "from fastai import gen_doc\n",
    "from fastai.gen_doc import nbdoc\n",
    "from fastai.gen_doc.nbdoc import *\n",
    "from fastai.gen_doc.gen_notebooks import *"
   ]
  },
  {
   "cell_type": "markdown",
   "metadata": {},
   "source": [
    "# Installation"
   ]
  },
  {
   "cell_type": "markdown",
   "metadata": {},
   "source": [
    "This package requires:\n",
    "- [nbconvert](https://github.com/jupyter/nbconvert): conda install nbconvert\n",
    "- [nb_extensions](https://github.com/ipython-contrib/jupyter_contrib_nbextensions): conda install -c conda-forge jupyter_contrib_nbextensions"
   ]
  },
  {
   "cell_type": "markdown",
   "metadata": {},
   "source": [
    "Once nbextensions is installed, your home page of jupyter notebook will look like this:\n",
    "\n",
    "![Homepage with nbextension](imgs/nbext.png)"
   ]
  },
  {
   "cell_type": "markdown",
   "metadata": {},
   "source": [
    "Click on the Nbextensions tab then make sure the hide inputs extension is activated:\n",
    "\n",
    "![Activate hidden input](imgs/hide_input.png)"
   ]
  },
  {
   "cell_type": "markdown",
   "metadata": {},
   "source": [
    "As its name suggests, this will allow you to hide input cells and only show their results."
   ]
  },
  {
   "cell_type": "markdown",
   "metadata": {},
   "source": [
    "# Convert modules into notebook skeleton"
   ]
  },
  {
   "cell_type": "markdown",
   "metadata": {},
   "source": [
    "The first (optional) step is to create a notebook \"skeleton\" - i.e. a notebook containing all the classes, methods, functions, and other symbols you wish to document. You can create this manually if you prefer, however using the automatic approach can save you some time and ensure you don't miss anything. For the initial skelton, use `create_module_path`, which creates a new module from scratch. To update it later with any newly-added symbols, use `update_module_page`."
   ]
  },
  {
   "cell_type": "code",
   "execution_count": null,
   "metadata": {
    "hide_input": true
   },
   "outputs": [
    {
     "data": {
      "text/markdown": [
       "#### <a id=create_module_page></a>**create_module_page**(<em>mod</em>, <em>dest_path</em>, <em>force</em>=False)\n",
       "\n",
       "\n",
       "Creates the documentation notebook for module `mod_name` in path `dest_path`\n",
       "\n",
       "- *mod*: the module\n",
       "- *dest_path*: the folder in which to generate the notebook\n",
       "- *force*: if False, will raise an exception if the notebook is already present"
      ],
      "text/plain": [
       "<IPython.core.display.Markdown object>"
      ]
     },
     "metadata": {},
     "output_type": "display_data"
    }
   ],
   "source": [
    "show_doc(create_module_page, arg_comments={\n",
    "    'mod': 'the module',\n",
    "    'dest_path': 'the folder in which to generate the notebook',\n",
    "    'force': 'if False, will raise an exception if the notebook is already present'})"
   ]
  },
  {
   "cell_type": "code",
   "execution_count": null,
   "metadata": {
    "hide_input": true
   },
   "outputs": [
    {
     "data": {
      "text/markdown": [
       "#### <a id=update_module_page></a>**update_module_page**(<em>mod</em>, <em>dest_path</em>)\n",
       "\n",
       "\n",
       "Updates the documentation notebook of a given module\n",
       "\n",
       "- *mod*: the module\n",
       "- *dest_path*: the folder in which to generate the notebook"
      ],
      "text/plain": [
       "<IPython.core.display.Markdown object>"
      ]
     },
     "metadata": {},
     "output_type": "display_data"
    }
   ],
   "source": [
    "show_doc(update_module_page, arg_comments={\n",
    "    'mod': 'the module',\n",
    "    'dest_path': 'the folder in which to generate the notebook'})"
   ]
  },
  {
   "cell_type": "markdown",
   "metadata": {},
   "source": [
    "All the cells added by a user are conserved, only the cells of new symbols (aka that weren't documented before) will be inserted at the end. You can then move them to wherever you like in the notebook. For instance, to update this module's documentation, simply run:"
   ]
  },
  {
   "cell_type": "code",
   "execution_count": null,
   "metadata": {},
   "outputs": [],
   "source": [
    "update_module_page(nbdoc, '.')"
   ]
  },
  {
   "cell_type": "markdown",
   "metadata": {},
   "source": [
    "You can also generate and update *all* modules in a package using `generate_all` and `update_all`."
   ]
  },
  {
   "cell_type": "code",
   "execution_count": null,
   "metadata": {
    "hide_input": true
   },
   "outputs": [
    {
     "data": {
      "text/markdown": [
       "#### <a id=generate_all></a>**generate_all**(<em>pkg_name</em>, <em>dest_path</em>, <em>exclude</em>=None)\n",
       "\n",
       "\n",
       "Generate the documentation for all the modules in `pkg_name`\n",
       "\n",
       "- *pkg_name*: name of the package to document\n",
       "- *dest_path*: the folder in which to generate the notebooks\n",
       "- *exclude*: names of subdirectories to ignore"
      ],
      "text/plain": [
       "<IPython.core.display.Markdown object>"
      ]
     },
     "metadata": {},
     "output_type": "display_data"
    }
   ],
   "source": [
    "show_doc(generate_all, arg_comments={\n",
    "    'pkg_name': 'name of the package to document',\n",
    "    'dest_path': 'the folder in which to generate the notebooks',\n",
    "    'exclude': 'names of subdirectories to ignore'})"
   ]
  },
  {
   "cell_type": "code",
   "execution_count": null,
   "metadata": {
    "hide_input": true
   },
   "outputs": [
    {
     "data": {
      "text/markdown": [
       "#### <a id=update_all></a>**update_all**(<em>pkg_name</em>, <em>dest_path</em>, <em>exclude</em>: '__pycache__')=('.ipynb_checkpoints',)\n",
       "\n",
       "\n",
       "Updates all the notebooks in `pkg_name`\n",
       "\n",
       "- *dest_path*: the folder in which to generate the notebooks\n",
       "- *exclude*: names of subdirectories to ignore"
      ],
      "text/plain": [
       "<IPython.core.display.Markdown object>"
      ]
     },
     "metadata": {},
     "output_type": "display_data"
    }
   ],
   "source": [
    "show_doc(update_all, arg_comments={\n",
    "    'mod_name': 'name of the package to document',\n",
    "    'dest_path': 'the folder in which to generate the notebooks',\n",
    "    'exclude': 'names of subdirectories to ignore'})"
   ]
  },
  {
   "cell_type": "markdown",
   "metadata": {},
   "source": [
    "# Add documentation"
   ]
  },
  {
   "cell_type": "markdown",
   "metadata": {},
   "source": [
    "The automatically generated module will only contain the table of contents and the doc string of the functions and classes in your module (or the ones you picked with \\_\\_all\\_\\_). You should add more prose to them in markdown cells, or examples of uses inside the notebook."
   ]
  },
  {
   "cell_type": "markdown",
   "metadata": {},
   "source": [
    "At any time, if you don't want the input of a code cell to figure in the final result, you can use the little button in your tool bar to hide it.\n",
    "\n",
    "![Button to hide an input](imgs/button_hide.png)"
   ]
  },
  {
   "cell_type": "markdown",
   "metadata": {},
   "source": [
    "The same button can show you the hidden input from a cell. This used in conjunction with the helper functions from [nbdoc](gen_doc.nbdoc.ipynb) should allow you to easily add any content you need."
   ]
  },
  {
   "cell_type": "markdown",
   "metadata": {},
   "source": [
    "# Convert notebook to html"
   ]
  },
  {
   "cell_type": "markdown",
   "metadata": {},
   "source": [
    "Once you're finished, don't forget to properly save your notebook, then you can either convert all the notebooks together with the script:\n",
    "```\n",
    "python -m convert2html dir\n",
    "```\n",
    "- **dir** is the directory where all your notebooks are stored.\n",
    "\n",
    "If you prefer to do this in a notebook, you can simply type:"
   ]
  },
  {
   "cell_type": "code",
   "execution_count": null,
   "metadata": {},
   "outputs": [],
   "source": [
    "from fastai.gen_doc.convert2html import convert_nb\n",
    "convert_nb('gen_doc.gen_notebooks.ipynb')"
   ]
  },
  {
   "cell_type": "markdown",
   "metadata": {},
   "source": [
    "For more information see the [documentation of convert2html](gen_doc.convert2html.ipynb)."
   ]
  },
  {
   "cell_type": "code",
   "execution_count": null,
   "metadata": {},
   "outputs": [
    {
     "data": {
      "text/html": [
       "<a href='gen_doc.gen_notebooks.html' target='_blank'>gen_doc.gen_notebooks.html</a><br>"
      ],
      "text/plain": [
       "/data1/jhoward/git/fastai_v1/docs/example/gen_doc.gen_notebooks.html"
      ]
     },
     "execution_count": null,
     "metadata": {},
     "output_type": "execute_result"
    }
   ],
   "source": [
    "from IPython.display import FileLink\n",
    "FileLink('gen_doc.gen_notebooks.html')"
   ]
  },
  {
   "cell_type": "code",
   "execution_count": null,
   "metadata": {},
   "outputs": [],
   "source": []
  }
 ],
 "metadata": {
  "kernelspec": {
   "display_name": "Python 3",
   "language": "python",
   "name": "python3"
  }
 },
 "nbformat": 4,
 "nbformat_minor": 2
}
