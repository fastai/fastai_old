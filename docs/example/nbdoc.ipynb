{
 "cells": [
  {
   "cell_type": "markdown",
   "metadata": {},
   "source": [
    "# nbdoc"
   ]
  },
  {
   "cell_type": "markdown",
   "metadata": {},
   "source": [
    "Type an introduction of the package here."
   ]
  },
  {
   "cell_type": "code",
   "execution_count": null,
   "metadata": {},
   "outputs": [],
   "source": [
    "import fastai.gen_doc.nbdoc\n",
    "from fastai.gen_doc.nbdoc import * "
   ]
  },
  {
   "cell_type": "code",
   "execution_count": null,
   "metadata": {
    "hide_input": true
   },
   "outputs": [
    {
     "data": {
      "text/markdown": [
       "- [create_anchor](#create_anchor)\n",
       "- [get_class_toc](#get_class_toc)\n",
       "- [get_fn_link](#get_fn_link)\n",
       "- [get_module_toc](#get_module_toc)\n",
       "- [show_doc](#show_doc)\n",
       "- [show_doc_from_name](#show_doc_from_name)\n",
       "- [show_video](#show_video)\n",
       "- [show_video_from_youtube](#show_video_from_youtube)\n"
      ],
      "text/plain": [
       "<IPython.core.display.Markdown object>"
      ]
     },
     "metadata": {},
     "output_type": "display_data"
    }
   ],
   "source": [
    "get_module_toc(\"fastai.gen_doc.nbdoc\")"
   ]
  },
  {
   "cell_type": "code",
   "execution_count": null,
   "metadata": {},
   "outputs": [],
   "source": [
    "m_name = 'fastai.gen_doc.nbdoc'"
   ]
  },
  {
   "cell_type": "code",
   "execution_count": null,
   "metadata": {
    "hide_input": true
   },
   "outputs": [
    {
     "name": "stdout",
     "output_type": "stream",
     "text": [
      "(name)\n",
      "defaults[]\n",
      "formatted types{}\n"
     ]
    },
    {
     "data": {
      "text/markdown": [
       "<a id=create_anchor></a>**create_anchor**(<em>name</em>)"
      ],
      "text/plain": [
       "<IPython.core.display.Markdown object>"
      ]
     },
     "metadata": {},
     "output_type": "display_data"
    }
   ],
   "source": [
    "show_doc_from_name(m_name,'create_anchor')"
   ]
  },
  {
   "cell_type": "markdown",
   "metadata": {},
   "source": []
  },
  {
   "cell_type": "code",
   "execution_count": null,
   "metadata": {
    "hide_input": true
   },
   "outputs": [
    {
     "name": "stdout",
     "output_type": "stream",
     "text": [
      "(elt)\n",
      "defaults[]\n",
      "formatted types{}\n"
     ]
    },
    {
     "data": {
      "text/markdown": [
       "<a id=get_arg_spec></a>**get_arg_spec**(<em>elt</em>)"
      ],
      "text/plain": [
       "<IPython.core.display.Markdown object>"
      ]
     },
     "metadata": {},
     "output_type": "display_data"
    }
   ],
   "source": [
    "show_doc_from_name(m_name,'get_arg_spec')"
   ]
  },
  {
   "cell_type": "markdown",
   "metadata": {},
   "source": []
  },
  {
   "cell_type": "code",
   "execution_count": null,
   "metadata": {
    "hide_input": true
   },
   "outputs": [
    {
     "name": "stdout",
     "output_type": "stream",
     "text": [
      "(mod_name:str, cls_name:str)\n",
      "defaults['str', 'str']\n",
      "formatted types{}\n",
      "defaults['str', 'str']\n",
      "formatted types{}\n"
     ]
    },
    {
     "data": {
      "text/markdown": [
       "<a id=get_class_toc></a>**get_class_toc**(<em>mod_name</em>=str, <em>cls_name</em>=str)\n",
       "\n",
       "\n",
       "displays table of contents for `cls_name`"
      ],
      "text/plain": [
       "<IPython.core.display.Markdown object>"
      ]
     },
     "metadata": {},
     "output_type": "display_data"
    }
   ],
   "source": [
    "show_doc_from_name(m_name,'get_class_toc')"
   ]
  },
  {
   "cell_type": "markdown",
   "metadata": {},
   "source": []
  },
  {
   "cell_type": "code",
   "execution_count": null,
   "metadata": {
    "hide_input": true
   },
   "outputs": [
    {
     "name": "stdout",
     "output_type": "stream",
     "text": [
      "(elt, full_name:str) -> str\n",
      "defaults['str']\n",
      "formatted types{}\n",
      "defaults['str']\n",
      "formatted types{}\n"
     ]
    },
    {
     "data": {
      "text/markdown": [
       "<a id=get_cls_doc></a>**get_cls_doc**(<em>elt</em>, <em>full_name</em>=str)\n",
       "\n",
       "\n",
       "return class definition"
      ],
      "text/plain": [
       "<IPython.core.display.Markdown object>"
      ]
     },
     "metadata": {},
     "output_type": "display_data"
    }
   ],
   "source": [
    "show_doc_from_name(m_name,'get_cls_doc')"
   ]
  },
  {
   "cell_type": "markdown",
   "metadata": {},
   "source": []
  },
  {
   "cell_type": "code",
   "execution_count": null,
   "metadata": {
    "hide_input": true
   },
   "outputs": [
    {
     "name": "stdout",
     "output_type": "stream",
     "text": [
      "(elt, full_name:str) -> str\n",
      "defaults['str']\n",
      "formatted types{}\n",
      "defaults['str']\n",
      "formatted types{}\n"
     ]
    },
    {
     "data": {
      "text/markdown": [
       "<a id=get_enum_doc></a>**get_enum_doc**(<em>elt</em>, <em>full_name</em>=str)\n",
       "\n",
       "\n",
       "return formatted enum documentation"
      ],
      "text/plain": [
       "<IPython.core.display.Markdown object>"
      ]
     },
     "metadata": {},
     "output_type": "display_data"
    }
   ],
   "source": [
    "show_doc_from_name(m_name,'get_enum_doc')"
   ]
  },
  {
   "cell_type": "markdown",
   "metadata": {},
   "source": []
  },
  {
   "cell_type": "code",
   "execution_count": null,
   "metadata": {
    "hide_input": true
   },
   "outputs": [
    {
     "name": "stdout",
     "output_type": "stream",
     "text": [
      "(ft) -> str\n",
      "defaults[]\n",
      "formatted types{}\n"
     ]
    },
    {
     "data": {
      "text/markdown": [
       "<a id=get_fn_link></a>**get_fn_link**(<em>ft</em>)\n",
       "\n",
       "\n",
       "returns function link to notebook documentation"
      ],
      "text/plain": [
       "<IPython.core.display.Markdown object>"
      ]
     },
     "metadata": {},
     "output_type": "display_data"
    }
   ],
   "source": [
    "show_doc_from_name(m_name,'get_fn_link')"
   ]
  },
  {
   "cell_type": "code",
   "execution_count": null,
   "metadata": {},
   "outputs": [
    {
     "data": {
      "text/plain": [
       "'fastai.gen_doc.nbdoc.html#get_fn_link'"
      ]
     },
     "execution_count": null,
     "metadata": {},
     "output_type": "execute_result"
    }
   ],
   "source": [
    "get_fn_link(get_fn_link)"
   ]
  },
  {
   "cell_type": "markdown",
   "metadata": {},
   "source": []
  },
  {
   "cell_type": "code",
   "execution_count": null,
   "metadata": {
    "hide_input": true
   },
   "outputs": [
    {
     "name": "stdout",
     "output_type": "stream",
     "text": [
      "Module fastai.gen_doc.nbdoc doesn't have a function named get_ft_doc.\n"
     ]
    },
    {
     "ename": "AssertionError",
     "evalue": "None",
     "output_type": "error",
     "traceback": [
      "\u001b[0;31m---------------------------------------------------------------------------\u001b[0m",
      "\u001b[0;31mAssertionError\u001b[0m                            Traceback (most recent call last)",
      "\u001b[0;32m<ipython-input-14-35edd1c083ed>\u001b[0m in \u001b[0;36m<module>\u001b[0;34m()\u001b[0m\n\u001b[0;32m----> 1\u001b[0;31m \u001b[0mshow_doc_from_name\u001b[0m\u001b[0;34m(\u001b[0m\u001b[0mm_name\u001b[0m\u001b[0;34m,\u001b[0m\u001b[0;34m'get_ft_doc'\u001b[0m\u001b[0;34m)\u001b[0m\u001b[0;34m\u001b[0m\u001b[0m\n\u001b[0m",
      "\u001b[0;32m/data1/jhoward/git/fastai_v1/fastai/gen_doc/nbdoc.py\u001b[0m in \u001b[0;36mshow_doc_from_name\u001b[0;34m(mod_name, ft_name, doc_string, arg_comments, alt_doc_string)\u001b[0m\n\u001b[1;32m    167\u001b[0m     \u001b[0mmod\u001b[0m \u001b[0;34m=\u001b[0m \u001b[0mimport_mod\u001b[0m\u001b[0;34m(\u001b[0m\u001b[0mmod_name\u001b[0m\u001b[0;34m)\u001b[0m\u001b[0;34m\u001b[0m\u001b[0m\n\u001b[1;32m    168\u001b[0m     \u001b[0msplits\u001b[0m \u001b[0;34m=\u001b[0m \u001b[0mstr\u001b[0m\u001b[0;34m.\u001b[0m\u001b[0msplit\u001b[0m\u001b[0;34m(\u001b[0m\u001b[0mft_name\u001b[0m\u001b[0;34m,\u001b[0m \u001b[0;34m'.'\u001b[0m\u001b[0;34m)\u001b[0m\u001b[0;34m\u001b[0m\u001b[0m\n\u001b[0;32m--> 169\u001b[0;31m     \u001b[0;32massert\u001b[0m \u001b[0mhasattr\u001b[0m\u001b[0;34m(\u001b[0m\u001b[0mmod\u001b[0m\u001b[0;34m,\u001b[0m \u001b[0msplits\u001b[0m\u001b[0;34m[\u001b[0m\u001b[0;36m0\u001b[0m\u001b[0;34m]\u001b[0m\u001b[0;34m)\u001b[0m\u001b[0;34m,\u001b[0m \u001b[0mprint\u001b[0m\u001b[0;34m(\u001b[0m\u001b[0;34mf\"Module {mod_name} doesn't have a function named {splits[0]}.\"\u001b[0m\u001b[0;34m)\u001b[0m\u001b[0;34m\u001b[0m\u001b[0m\n\u001b[0m\u001b[1;32m    170\u001b[0m     \u001b[0melt\u001b[0m \u001b[0;34m=\u001b[0m \u001b[0mgetattr\u001b[0m\u001b[0;34m(\u001b[0m\u001b[0mmod\u001b[0m\u001b[0;34m,\u001b[0m \u001b[0msplits\u001b[0m\u001b[0;34m[\u001b[0m\u001b[0;36m0\u001b[0m\u001b[0;34m]\u001b[0m\u001b[0;34m)\u001b[0m\u001b[0;34m\u001b[0m\u001b[0m\n\u001b[1;32m    171\u001b[0m     \u001b[0;32mfor\u001b[0m \u001b[0mi\u001b[0m\u001b[0;34m,\u001b[0m\u001b[0msplit\u001b[0m \u001b[0;32min\u001b[0m \u001b[0menumerate\u001b[0m\u001b[0;34m(\u001b[0m\u001b[0msplits\u001b[0m\u001b[0;34m[\u001b[0m\u001b[0;36m1\u001b[0m\u001b[0;34m:\u001b[0m\u001b[0;34m]\u001b[0m\u001b[0;34m)\u001b[0m\u001b[0;34m:\u001b[0m\u001b[0;34m\u001b[0m\u001b[0m\n",
      "\u001b[0;31mAssertionError\u001b[0m: None"
     ]
    }
   ],
   "source": [
    "show_doc_from_name(m_name,'get_ft_doc')"
   ]
  },
  {
   "cell_type": "markdown",
   "metadata": {},
   "source": []
  },
  {
   "cell_type": "code",
   "execution_count": null,
   "metadata": {
    "hide_input": true
   },
   "outputs": [
    {
     "name": "stdout",
     "output_type": "stream",
     "text": [
      "(mod) -> List[str]\n",
      "defaults[]\n",
      "formatted types{}\n"
     ]
    },
    {
     "data": {
      "text/markdown": [
       "<a id=get_ft_names></a>**get_ft_names**(<em>mod</em>)\n",
       "\n",
       "\n",
       "retrieves all the functions of `mod`"
      ],
      "text/plain": [
       "<IPython.core.display.Markdown object>"
      ]
     },
     "metadata": {},
     "output_type": "display_data"
    }
   ],
   "source": [
    "show_doc_from_name(m_name,'get_ft_names')"
   ]
  },
  {
   "cell_type": "markdown",
   "metadata": {},
   "source": []
  },
  {
   "cell_type": "code",
   "execution_count": null,
   "metadata": {
    "hide_input": true
   },
   "outputs": [
    {
     "name": "stdout",
     "output_type": "stream",
     "text": [
      "(elt) -> List[str]\n",
      "defaults[]\n",
      "formatted types{}\n"
     ]
    },
    {
     "data": {
      "text/markdown": [
       "<a id=get_inner_fts></a>**get_inner_fts**(<em>elt</em>)\n",
       "\n",
       "\n",
       "return methods belonging to class"
      ],
      "text/plain": [
       "<IPython.core.display.Markdown object>"
      ]
     },
     "metadata": {},
     "output_type": "display_data"
    }
   ],
   "source": [
    "show_doc_from_name(m_name,'get_inner_fts')"
   ]
  },
  {
   "cell_type": "markdown",
   "metadata": {},
   "source": []
  },
  {
   "cell_type": "code",
   "execution_count": null,
   "metadata": {
    "hide_input": true
   },
   "outputs": [
    {
     "name": "stdout",
     "output_type": "stream",
     "text": [
      "(mod_name)\n",
      "defaults[]\n",
      "formatted types{}\n"
     ]
    },
    {
     "data": {
      "text/markdown": [
       "<a id=get_module_toc></a>**get_module_toc**(<em>mod_name</em>)\n",
       "\n",
       "\n",
       "displays table of contents for given `mod_name`"
      ],
      "text/plain": [
       "<IPython.core.display.Markdown object>"
      ]
     },
     "metadata": {},
     "output_type": "display_data"
    }
   ],
   "source": [
    "show_doc_from_name(m_name,'get_module_toc')"
   ]
  },
  {
   "cell_type": "markdown",
   "metadata": {},
   "source": []
  },
  {
   "cell_type": "code",
   "execution_count": null,
   "metadata": {
    "hide_input": true
   },
   "outputs": [
    {
     "name": "stdout",
     "output_type": "stream",
     "text": [
      "(mod_name:str)\n",
      "defaults['str']\n",
      "formatted types{}\n"
     ]
    },
    {
     "data": {
      "text/markdown": [
       "<a id=import_mod></a>**import_mod**(<em>mod_name</em>=str)\n",
       "\n",
       "\n",
       "returns module from `mod_name`"
      ],
      "text/plain": [
       "<IPython.core.display.Markdown object>"
      ]
     },
     "metadata": {},
     "output_type": "display_data"
    }
   ],
   "source": [
    "show_doc_from_name(m_name,'import_mod')"
   ]
  },
  {
   "cell_type": "markdown",
   "metadata": {},
   "source": []
  },
  {
   "cell_type": "code",
   "execution_count": null,
   "metadata": {
    "hide_input": true
   },
   "outputs": [
    {
     "data": {
      "text/markdown": [
       "<a id=is_enum></a>**is_enum**\n",
       "\n",
       "Arguments:\n",
       "- **cls**\n"
      ],
      "text/plain": [
       "<IPython.core.display.Markdown object>"
      ]
     },
     "metadata": {},
     "output_type": "display_data"
    }
   ],
   "source": [
    "show_doc_from_name(m_name,'is_enum')"
   ]
  },
  {
   "cell_type": "markdown",
   "metadata": {},
   "source": []
  },
  {
   "cell_type": "code",
   "execution_count": null,
   "metadata": {
    "hide_input": true
   },
   "outputs": [
    {
     "data": {
      "text/markdown": [
       "<a id=parse_args></a>**parse_args**\n",
       "\n",
       "Arguments:\n",
       "- **elt**\n",
       "- **ignore_first**, *default False*\n",
       "- **arg_comments**, *default {}*\n"
      ],
      "text/plain": [
       "<IPython.core.display.Markdown object>"
      ]
     },
     "metadata": {},
     "output_type": "display_data"
    }
   ],
   "source": [
    "show_doc_from_name(m_name,'parse_args')"
   ]
  },
  {
   "cell_type": "markdown",
   "metadata": {},
   "source": []
  },
  {
   "cell_type": "code",
   "execution_count": null,
   "metadata": {
    "hide_input": true
   },
   "outputs": [
    {
     "data": {
      "text/markdown": [
       "<a id=show_doc></a>**show_doc**\n",
       "\n",
       "Arguments:\n",
       "- **elt**\n",
       "- **doc_string**, *default True*\n",
       "- **full_name**, *default None*\n",
       "- **arg_comments**, *default {}*\n",
       "- **alt_doc_string**, *default *\n"
      ],
      "text/plain": [
       "<IPython.core.display.Markdown object>"
      ]
     },
     "metadata": {},
     "output_type": "display_data"
    }
   ],
   "source": [
    "show_doc_from_name(m_name,'show_doc')"
   ]
  },
  {
   "cell_type": "markdown",
   "metadata": {},
   "source": []
  },
  {
   "cell_type": "code",
   "execution_count": null,
   "metadata": {
    "hide_input": true
   },
   "outputs": [
    {
     "data": {
      "text/markdown": [
       "<a id=show_doc_from_name></a>**show_doc_from_name**\n",
       "\n",
       "Arguments:\n",
       "- **mod_name**\n",
       "- **ft_name**\n",
       "- **doc_string**, *default True*\n",
       "- **arg_comments**, *default {}*\n",
       "- **alt_doc_string**, *default *\n"
      ],
      "text/plain": [
       "<IPython.core.display.Markdown object>"
      ]
     },
     "metadata": {},
     "output_type": "display_data"
    }
   ],
   "source": [
    "show_doc_from_name(m_name,'show_doc_from_name')"
   ]
  },
  {
   "cell_type": "markdown",
   "metadata": {},
   "source": []
  },
  {
   "cell_type": "code",
   "execution_count": null,
   "metadata": {
    "hide_input": true
   },
   "outputs": [
    {
     "data": {
      "text/markdown": [
       "<a id=show_video></a>**show_video**\n",
       "\n",
       "Arguments:\n",
       "- **url**\n"
      ],
      "text/plain": [
       "<IPython.core.display.Markdown object>"
      ]
     },
     "metadata": {},
     "output_type": "display_data"
    }
   ],
   "source": [
    "show_doc_from_name(m_name,'show_video')"
   ]
  },
  {
   "cell_type": "markdown",
   "metadata": {},
   "source": []
  },
  {
   "cell_type": "code",
   "execution_count": null,
   "metadata": {
    "hide_input": true
   },
   "outputs": [
    {
     "data": {
      "text/markdown": [
       "<a id=show_video_from_youtube></a>**show_video_from_youtube**\n",
       "\n",
       "Arguments:\n",
       "- **code**\n",
       "- **start**, *default 0*\n"
      ],
      "text/plain": [
       "<IPython.core.display.Markdown object>"
      ]
     },
     "metadata": {},
     "output_type": "display_data"
    }
   ],
   "source": [
    "show_doc_from_name(m_name,'show_video_from_youtube')"
   ]
  },
  {
   "cell_type": "markdown",
   "metadata": {},
   "source": []
  },
  {
   "cell_type": "code",
   "execution_count": null,
   "metadata": {
    "hide_input": true
   },
   "outputs": [
    {
     "data": {
      "text/markdown": [
       "<a id=wrap_class></a>**wrap_class**\n",
       "\n",
       "Arguments:\n",
       "- **t**\n"
      ],
      "text/plain": [
       "<IPython.core.display.Markdown object>"
      ]
     },
     "metadata": {},
     "output_type": "display_data"
    }
   ],
   "source": [
    "show_doc_from_name(m_name,'wrap_class')"
   ]
  },
  {
   "cell_type": "markdown",
   "metadata": {},
   "source": []
  }
 ],
 "metadata": {
  "kernelspec": {
   "display_name": "Python 3",
   "language": "python",
   "name": "python3"
  }
 },
 "nbformat": 4,
 "nbformat_minor": 2
}
