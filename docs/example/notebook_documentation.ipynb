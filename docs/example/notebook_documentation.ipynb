{
 "cells": [
  {
   "cell_type": "markdown",
   "metadata": {},
   "source": [
    "# Notebook generated documentation"
   ]
  },
  {
   "cell_type": "markdown",
   "metadata": {},
   "source": [
    "# Table of Contents\n",
    " <p><div class=\"lev1 toc-item\"><a href=\"#Notebook-generated-documentation\" data-toc-modified-id=\"Notebook-generated-documentation-1\"><span class=\"toc-item-num\">1&nbsp;&nbsp;</span>Notebook generated documentation</a></div><div class=\"lev1 toc-item\"><a href=\"#Installation\" data-toc-modified-id=\"Installation-2\"><span class=\"toc-item-num\">2&nbsp;&nbsp;</span>Installation</a></div><div class=\"lev1 toc-item\"><a href=\"#Convert-modules-into-notebook-skeleton\" data-toc-modified-id=\"Convert-modules-into-notebook-skeleton-3\"><span class=\"toc-item-num\">3&nbsp;&nbsp;</span>Convert modules into notebook skeleton</a></div><div class=\"lev1 toc-item\"><a href=\"#Add-documentation\" data-toc-modified-id=\"Add-documentation-4\"><span class=\"toc-item-num\">4&nbsp;&nbsp;</span>Add documentation</a></div><div class=\"lev1 toc-item\"><a href=\"#Convert-notebook-to-html\" data-toc-modified-id=\"Convert-notebook-to-html-5\"><span class=\"toc-item-num\">5&nbsp;&nbsp;</span>Convert notebook to html</a></div>"
   ]
  },
  {
   "cell_type": "code",
   "execution_count": null,
   "metadata": {
    "hide_input": true
   },
   "outputs": [],
   "source": [
    "from fastai import gen_doc\n",
    "from fastai.gen_doc import nbdoc\n",
    "from fastai.gen_doc.nbdoc import *"
   ]
  },
  {
   "cell_type": "markdown",
   "metadata": {},
   "source": [
    "This is the package to create notebooks that we will use for documenting the new fastai library. It contains the two scripts that automatically generate the notebooks from the python modules and then convert the notebooks into html. The last module contains helper function to use in the notebooks."
   ]
  },
  {
   "cell_type": "markdown",
   "metadata": {},
   "source": [
    "# Installation"
   ]
  },
  {
   "cell_type": "markdown",
   "metadata": {},
   "source": [
    "This package requires:\n",
    "- [nbconvert](https://github.com/jupyter/nbconvert): conda install nbconvert\n",
    "- [nb_extensions](https://github.com/ipython-contrib/jupyter_contrib_nbextensions): conda install -c conda-forge jupyter_contrib_nbextensions\n",
    "\n",
    "Once nbextensions is installed, your home page of jupyter notebook will look like this:\n",
    "\n",
    "![Homepage with nbextension](imgs/nbext.png)\n",
    "\n",
    "Click on the Nbextensions tab then make sure the hidden inputs extensions is activated:\n",
    "\n",
    "![Activate hidden input](imgs/hide_input.png)\n",
    "\n",
    "As its name hints, this will alow you to hide input cells and only show their results."
   ]
  },
  {
   "cell_type": "markdown",
   "metadata": {},
   "source": [
    "# Convert modules into notebook skeleton"
   ]
  },
  {
   "cell_type": "markdown",
   "metadata": {},
   "source": [
    "sgen_notebooks can be used either as a script or a independent module to transform a given module of a package into the skeleton of a notebook for its documentation. If used as a script, the usage is\n",
    "\n",
    "```\n",
    "python -m sgen_notebooks package path_to_result [--update]\n",
    "```\n",
    " - **package** is the package you want to write the documentation of. Note that if the package isn't installed in your environment, you need to execute to execute the script in a place where package is a directory (or make a simlink to it). The script will search thourgh all the subdirectories to create all the relevant notebooks.\n",
    " - **path_to_result** is a directory where you want those notebooks. The script will auto-execute them, so this directory should contain the file nbdoc.py from this package. If the module you are documenting isn't installed, you will also need to have a simlink to it in your path_to_result folder.\n",
    " - if the flag **--update** is added, the script will update the notebooks (to reflect the addition of new functions or new arguments)."
   ]
  },
  {
   "cell_type": "markdown",
   "metadata": {},
   "source": [
    "If you decide to use this a notebook, you can create the notebook associated to a given module by simply typing:"
   ]
  },
  {
   "cell_type": "code",
   "execution_count": null,
   "metadata": {},
   "outputs": [],
   "source": [
    "from fastai.gen_doc.gen_notebooks import *"
   ]
  },
  {
   "cell_type": "code",
   "execution_count": null,
   "metadata": {},
   "outputs": [
    {
     "ename": "FileExistsError",
     "evalue": "[Errno 17] File exists: './gen_doc.nbdoc.ipynb'",
     "output_type": "error",
     "traceback": [
      "\u001b[0;31m---------------------------------------------------------------------------\u001b[0m",
      "\u001b[0;31mFileExistsError\u001b[0m                           Traceback (most recent call last)",
      "\u001b[0;32m<ipython-input-3-fd3738c94a30>\u001b[0m in \u001b[0;36m<module>\u001b[0;34m()\u001b[0m\n\u001b[0;32m----> 1\u001b[0;31m \u001b[0mcreate_module_page\u001b[0m\u001b[0;34m(\u001b[0m\u001b[0mnbdoc\u001b[0m\u001b[0;34m,\u001b[0m \u001b[0;34m'.'\u001b[0m\u001b[0;34m)\u001b[0m\u001b[0;34m\u001b[0m\u001b[0m\n\u001b[0m",
      "\u001b[0;32m/data1/jhoward/git/fastai_v1/fastai/gen_doc/gen_notebooks.py\u001b[0m in \u001b[0;36mcreate_module_page\u001b[0;34m(mod, dest_path)\u001b[0m\n\u001b[1;32m    140\u001b[0m                 \u001b[0mcells\u001b[0m \u001b[0;34m+=\u001b[0m \u001b[0;34m[\u001b[0m\u001b[0mget_doc_cell\u001b[0m\u001b[0;34m(\u001b[0m\u001b[0mname\u001b[0m\u001b[0;34m)\u001b[0m\u001b[0;34m,\u001b[0m \u001b[0mget_empty_cell\u001b[0m\u001b[0;34m(\u001b[0m\u001b[0;34m)\u001b[0m\u001b[0;34m]\u001b[0m\u001b[0;34m\u001b[0m\u001b[0m\n\u001b[1;32m    141\u001b[0m     \u001b[0mnb\u001b[0m\u001b[0;34m[\u001b[0m\u001b[0;34m'cells'\u001b[0m\u001b[0;34m]\u001b[0m \u001b[0;34m=\u001b[0m \u001b[0minit_cell\u001b[0m \u001b[0;34m+\u001b[0m \u001b[0mcells\u001b[0m\u001b[0;34m\u001b[0m\u001b[0m\n\u001b[0;32m--> 142\u001b[0;31m     \u001b[0mjson\u001b[0m\u001b[0;34m.\u001b[0m\u001b[0mdump\u001b[0m\u001b[0;34m(\u001b[0m\u001b[0mnb\u001b[0m\u001b[0;34m,\u001b[0m \u001b[0mopen\u001b[0m\u001b[0;34m(\u001b[0m\u001b[0mos\u001b[0m\u001b[0;34m.\u001b[0m\u001b[0mpath\u001b[0m\u001b[0;34m.\u001b[0m\u001b[0mjoin\u001b[0m\u001b[0;34m(\u001b[0m\u001b[0mdest_path\u001b[0m\u001b[0;34m,\u001b[0m\u001b[0;34mf'{strip_name}.ipynb'\u001b[0m\u001b[0;34m)\u001b[0m\u001b[0;34m,\u001b[0m\u001b[0;34m'x'\u001b[0m\u001b[0;34m)\u001b[0m\u001b[0;34m)\u001b[0m\u001b[0;34m\u001b[0m\u001b[0m\n\u001b[0m\u001b[1;32m    143\u001b[0m     \u001b[0;31m#execute_nb(os.path.join(dest_path,f'{strip_name}.ipynb'))\u001b[0m\u001b[0;34m\u001b[0m\u001b[0;34m\u001b[0m\u001b[0m\n\u001b[1;32m    144\u001b[0m \u001b[0;34m\u001b[0m\u001b[0m\n",
      "\u001b[0;31mFileExistsError\u001b[0m: [Errno 17] File exists: './gen_doc.nbdoc.ipynb'"
     ]
    }
   ],
   "source": [
    "create_module_page(nbdoc, '.')"
   ]
  },
  {
   "cell_type": "markdown",
   "metadata": {},
   "source": [
    "Updating a module is a simple:"
   ]
  },
  {
   "cell_type": "code",
   "execution_count": null,
   "metadata": {},
   "outputs": [],
   "source": [
    "update_module_page(nbdoc, '.')"
   ]
  },
  {
   "cell_type": "markdown",
   "metadata": {},
   "source": [
    "It is not expected you'd use this skeleton as your final docs - you should add markdown, examples, etc to it. The skeleton just has a minimal list of exported symbols. For more information, check the [documentation of gen_notebooks](gen_doc.gen_notebooks.ipynb).\n",
    "\n",
    "**Important note:** The notebooks automatically generated or updated need to be trusted before you can see the results in the output cells. To trust a notebook, click on File, then Trust notebook."
   ]
  },
  {
   "cell_type": "markdown",
   "metadata": {},
   "source": [
    "# Add documentation"
   ]
  },
  {
   "cell_type": "markdown",
   "metadata": {},
   "source": [
    "The automatically generated module will only contain the table of contents and the doc string of the functions and classes in your module (or the ones you picked with \\_\\_all\\_\\_). You should add more prose to them in markdown cells, or examples of uses inside the notebook."
   ]
  },
  {
   "cell_type": "markdown",
   "metadata": {},
   "source": [
    "At any time, if you don't want the input of a code cell to figure in the final result, you can use the little button in your tool bar to hide it.\n",
    "\n",
    "![Button to hide an input](imgs/button_hide.png)"
   ]
  },
  {
   "cell_type": "markdown",
   "metadata": {},
   "source": [
    "The same button can show you the hidden input from a cell. This used in conjunction with the helper functions from [nbdoc](gen_doc.nbdoc.ipynb) should allow you to easily add any content you need."
   ]
  },
  {
   "cell_type": "markdown",
   "metadata": {},
   "source": [
    "# Convert notebook to html"
   ]
  },
  {
   "cell_type": "markdown",
   "metadata": {},
   "source": [
    "Once you're finished, don't worget to properly save your notebook, then you can either convert all the notebooks together with the script:\n",
    "```\n",
    "python -m convert2html dir\n",
    "```\n",
    "- **dir** is the directory where all your notebooks are stored.\n",
    "\n",
    "If you prefer to do this in a notebook, you can simply type:"
   ]
  },
  {
   "cell_type": "code",
   "execution_count": null,
   "metadata": {},
   "outputs": [],
   "source": [
    "from fastai.gen_doc.convert2html import convert_nb\n",
    "convert_nb('notebook_documentation.ipynb')"
   ]
  },
  {
   "cell_type": "markdown",
   "metadata": {},
   "source": [
    "For more information see the [documentation of convert2html](gen_doc.convert2html.ipynb)."
   ]
  },
  {
   "cell_type": "code",
   "execution_count": null,
   "metadata": {},
   "outputs": [
    {
     "data": {
      "text/html": [
       "<a href='notebook_documentation.html' target='_blank'>notebook_documentation.html</a><br>"
      ],
      "text/plain": [
       "/data1/jhoward/git/fastai_v1/docs/example/notebook_documentation.html"
      ]
     },
     "execution_count": null,
     "metadata": {},
     "output_type": "execute_result"
    }
   ],
   "source": [
    "from IPython.display import FileLink\n",
    "FileLink('notebook_documentation.html')"
   ]
  },
  {
   "cell_type": "code",
   "execution_count": null,
   "metadata": {},
   "outputs": [],
   "source": []
  }
 ],
 "metadata": {
  "kernelspec": {
   "display_name": "Python 3",
   "language": "python",
   "name": "python3"
  }
 },
 "nbformat": 4,
 "nbformat_minor": 2
}
