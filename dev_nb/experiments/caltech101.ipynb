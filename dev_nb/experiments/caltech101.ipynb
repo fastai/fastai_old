{
 "cells": [
  {
   "cell_type": "code",
   "execution_count": 1,
   "metadata": {},
   "outputs": [],
   "source": [
    "%matplotlib inline\n",
    "%reload_ext autoreload\n",
    "%autoreload 2"
   ]
  },
  {
   "cell_type": "code",
   "execution_count": 2,
   "metadata": {},
   "outputs": [],
   "source": [
    "from nb_002 import *"
   ]
  },
  {
   "cell_type": "code",
   "execution_count": 3,
   "metadata": {},
   "outputs": [],
   "source": [
    "DATA_PATH = Path('../data')\n",
    "PATH = DATA_PATH/'caltech101'\n",
    "fPATH = DATA_PATH/'cifar10'"
   ]
  },
  {
   "cell_type": "code",
   "execution_count": 4,
   "metadata": {},
   "outputs": [],
   "source": [
    "#export\n",
    "class FilesDataset(Dataset):\n",
    "    def __init__(self, fns, labels, classes=None, tfms=None):\n",
    "        if classes is None: classes = list(set(labels))\n",
    "        self.classes,self.tfms = classes,torchvision.transforms.Compose(tfms)\n",
    "        self.class2idx = {v:k for k,v in enumerate(classes)}\n",
    "        self.fns = np.array(fns)\n",
    "        self.y = [self.class2idx[o] for o in labels]\n",
    "        \n",
    "    @classmethod\n",
    "    def from_folder(cls, folder, classes=None, test_pct=0., tfms=None):\n",
    "        if classes is None: classes = [cls.name for cls in find_classes(folder)]\n",
    "            \n",
    "        fns,labels = [],[]\n",
    "        for cl in classes:\n",
    "            fnames = get_image_files(folder/cl)\n",
    "            fns += fnames\n",
    "            labels += [cl] * len(fnames)\n",
    "            \n",
    "        if test_pct==0.: return cls(fns, labels)\n",
    "        fns,labels = np.array(fns),np.array(labels)\n",
    "        is_test = np.random.uniform(size=(len(fns),)) < test_pct\n",
    "        return cls(fns[~is_test], labels[~is_test], tfms=tfms[0]), cls(fns[is_test], labels[is_test], tfms=tfms[1])\n",
    "\n",
    "    def __len__(self): return len(self.fns)\n",
    "\n",
    "    def __getitem__(self,i):\n",
    "        x = PIL.Image.open(self.fns[i]).convert('RGB')\n",
    "        x = self.tfms(x)\n",
    "        return pil2tensor(x),self.y[i]"
   ]
  },
  {
   "cell_type": "code",
   "execution_count": 5,
   "metadata": {},
   "outputs": [],
   "source": [
    "sz = 224\n",
    "import torchvision"
   ]
  },
  {
   "cell_type": "code",
   "execution_count": 59,
   "metadata": {},
   "outputs": [],
   "source": [
    "trn_tfms = [torchvision.transforms.RandomResizedCrop(sz, scale=(0.5, 1.0)),\n",
    "             torchvision.transforms.RandomHorizontalFlip()] #torchvision.transforms.RandomRotation(10),\n",
    "val_tfms = [torchvision.transforms.Resize(sz),\n",
    "            torchvision.transforms.CenterCrop(sz)]"
   ]
  },
  {
   "cell_type": "code",
   "execution_count": 7,
   "metadata": {},
   "outputs": [],
   "source": [
    "classes = ['airplanes','Motorbikes','Faces','watch','Leopards']\n",
    "np.random.seed(42)\n",
    "train_ds,valid_ds = FilesDataset.from_folder(PATH, classes=classes, test_pct=0.2, tfms=(trn_tfms,val_tfms))"
   ]
  },
  {
   "cell_type": "code",
   "execution_count": 56,
   "metadata": {},
   "outputs": [
    {
     "data": {
      "application/vnd.jupyter.widget-view+json": {
       "model_id": "c944583199324e8099f8ec88e2c0504b",
       "version_major": 2,
       "version_minor": 0
      },
      "text/plain": [
       "HBox(children=(IntProgress(value=0, max=1951), HTML(value='')))"
      ]
     },
     "metadata": {},
     "output_type": "display_data"
    },
    {
     "name": "stdout",
     "output_type": "stream",
     "text": [
      "\n"
     ]
    },
    {
     "data": {
      "application/vnd.jupyter.widget-view+json": {
       "model_id": "41ada67838514c66aa1c6dc54012bd7a",
       "version_major": 2,
       "version_minor": 0
      },
      "text/plain": [
       "HBox(children=(IntProgress(value=0, max=521), HTML(value='')))"
      ]
     },
     "metadata": {},
     "output_type": "display_data"
    },
    {
     "name": "stdout",
     "output_type": "stream",
     "text": [
      "\n"
     ]
    }
   ],
   "source": [
    "means, means2 = torch.zeros(3),torch.zeros(3)\n",
    "counts = 0\n",
    "for i in tqdm(range(len(train_ds))):\n",
    "    x = PIL.Image.open(train_ds.fns[i]).convert('RGB')\n",
    "    x = pil2tensor(x)\n",
    "    means += x.reshape(3,-1).sum(1)\n",
    "    means2 += x.pow(2).reshape(3,-1).sum(1)\n",
    "    counts += x.reshape(3,-1).size(1)\n",
    "for i in tqdm(range(len(valid_ds))):\n",
    "    x = PIL.Image.open(train_ds.fns[i]).convert('RGB')\n",
    "    x = pil2tensor(x)\n",
    "    means += x.reshape(3,-1).sum(1)\n",
    "    means2 += x.pow(2).reshape(3,-1).sum(1)\n",
    "    counts += x.reshape(3,-1).size(1)"
   ]
  },
  {
   "cell_type": "code",
   "execution_count": 59,
   "metadata": {},
   "outputs": [
    {
     "data": {
      "text/plain": [
       "(tensor([ 0.5355,  0.5430,  0.5280]), tensor([ 0.2909,  0.2788,  0.2979]))"
      ]
     },
     "execution_count": 59,
     "metadata": {},
     "output_type": "execute_result"
    }
   ],
   "source": [
    "means/counts, torch.sqrt(means2/counts - (means/counts)**2)"
   ]
  },
  {
   "cell_type": "code",
   "execution_count": 8,
   "metadata": {},
   "outputs": [],
   "source": [
    "stats = (np.array([0.5355,0.5430,0.5280]), np.array([0.2909,0.2788,0.2979]))"
   ]
  },
  {
   "cell_type": "code",
   "execution_count": 60,
   "metadata": {},
   "outputs": [],
   "source": [
    "class DeviceDataLoader():\n",
    "    def __init__(self, dl, device, stats):\n",
    "        self.dl,self.device = dl,device\n",
    "        self.m, self.s = map(lambda x:torch.tensor(x, dtype=torch.float32, device=device), stats)\n",
    "        \n",
    "    def __iter__(self):\n",
    "        for xb, yb in self.dl:\n",
    "            xb,yb = xb.to(self.device),yb.to(self.device)\n",
    "            xb.add_(-1, self.m[None,:,None,None]).div_(self.s[None,:,None,None])\n",
    "            yield xb,yb\n",
    "    \n",
    "    def __len__(self): return (len(self.dl))"
   ]
  },
  {
   "cell_type": "code",
   "execution_count": 61,
   "metadata": {},
   "outputs": [],
   "source": [
    "def get_dataloader(ds, bs, shuffle, cuda_id, stats, sampler):\n",
    "    device = torch.device('cuda', cuda_id)\n",
    "    dl = DataLoader1(ds, batch_size=bs, shuffle=shuffle,num_workers=8, sampler=sampler, pin_memory=True)\n",
    "    return DeviceDataLoader(dl, device, stats)"
   ]
  },
  {
   "cell_type": "code",
   "execution_count": 62,
   "metadata": {},
   "outputs": [],
   "source": [
    "from torch.utils.data import DataLoader as DataLoader1"
   ]
  },
  {
   "cell_type": "code",
   "execution_count": 63,
   "metadata": {},
   "outputs": [],
   "source": [
    "class DataBunch():\n",
    "    def __init__(self, trn_ds, val_ds, stats, cuda_id, trn_sampler=None, val_sampler=None, bs=64):\n",
    "        if hasattr(trn_ds, 'classes'): self.classes = trn_ds.classes\n",
    "        self.device = torch.device('cuda', cuda_id)\n",
    "        self.trn_dl = get_dataloader(trn_ds, bs, shuffle=(trn_sampler is None), cuda_id=cuda_id, stats=stats, sampler=trn_sampler)\n",
    "        self.val_dl = get_dataloader(val_ds, bs*2, shuffle=False, cuda_id=cuda_id, stats=stats, sampler=val_sampler)"
   ]
  },
  {
   "cell_type": "code",
   "execution_count": 64,
   "metadata": {},
   "outputs": [],
   "source": [
    "bs = 64"
   ]
  },
  {
   "cell_type": "code",
   "execution_count": 65,
   "metadata": {},
   "outputs": [],
   "source": [
    "data = DataBunch(train_ds, valid_ds, stats, 0, bs=bs)"
   ]
  },
  {
   "cell_type": "code",
   "execution_count": 66,
   "metadata": {},
   "outputs": [],
   "source": [
    "def conv_layer(ni, nf, ks=3, stride=1):\n",
    "    return nn.Sequential(\n",
    "        nn.Conv2d(ni, nf, kernel_size=ks, bias=False, stride=stride, padding=ks//2),\n",
    "        nn.BatchNorm2d(nf),\n",
    "        nn.LeakyReLU(negative_slope=0.1, inplace=True))\n",
    "\n",
    "class ResLayer(nn.Module):\n",
    "    def __init__(self, ni):\n",
    "        super().__init__()\n",
    "        self.conv1=conv_layer(ni, ni//2, ks=1)\n",
    "        self.conv2=conv_layer(ni//2, ni, ks=3)\n",
    "        \n",
    "    def forward(self, x): return x + self.conv2(self.conv1(x))\n",
    "\n",
    "class Darknet(nn.Module):\n",
    "    def make_group_layer(self, ch_in, num_blocks, stride=1):\n",
    "        return [conv_layer(ch_in, ch_in*2,stride=stride)\n",
    "               ] + [(ResLayer(ch_in*2)) for i in range(num_blocks)]\n",
    "\n",
    "    def __init__(self, num_blocks, num_classes, nf=32):\n",
    "        super().__init__()\n",
    "        layers = [conv_layer(3, nf, ks=3, stride=1)]\n",
    "        for i,nb in enumerate(num_blocks):\n",
    "            layers += self.make_group_layer(nf, nb, stride=2-(i==1))\n",
    "            nf *= 2\n",
    "        layers += [nn.AdaptiveAvgPool2d(1), Flatten(), nn.Linear(nf, num_classes)]\n",
    "        self.layers = nn.Sequential(*layers)\n",
    "    \n",
    "    def forward(self, x): return self.layers(x)"
   ]
  },
  {
   "cell_type": "code",
   "execution_count": 67,
   "metadata": {},
   "outputs": [],
   "source": [
    "model = Darknet([1, 2, 4, 6, 3], num_classes=len(classes), nf=16).cuda()"
   ]
  },
  {
   "cell_type": "code",
   "execution_count": 68,
   "metadata": {},
   "outputs": [],
   "source": [
    "from fastai.conv_learner import *"
   ]
  },
  {
   "cell_type": "code",
   "execution_count": 69,
   "metadata": {},
   "outputs": [],
   "source": [
    "ftfms = tfms_from_stats(stats, sz, aug_tfms=[RandomCrop(sz), RandomFlip()], pad=sz//8)\n",
    "fdata = ImageClassifierData.from_paths(fPATH, val_name='test', tfms=ftfms, bs=bs)"
   ]
  },
  {
   "cell_type": "code",
   "execution_count": 71,
   "metadata": {},
   "outputs": [],
   "source": [
    "opt_fn = partial(optim.Adam, betas=(0.95,0.99))\n",
    "learner = Learner.from_model_data(model, fdata, opt_fn=opt_fn)\n",
    "learner.data.trn_dl, learner.data.val_dl = data.trn_dl, data.val_dl\n",
    "learner.crit = F.cross_entropy\n",
    "learner.metrics = [accuracy]"
   ]
  },
  {
   "cell_type": "code",
   "execution_count": 51,
   "metadata": {},
   "outputs": [
    {
     "data": {
      "text/plain": [
       "device(type='cuda', index=0)"
      ]
     },
     "execution_count": 51,
     "metadata": {},
     "output_type": "execute_result"
    }
   ],
   "source": [
    "data.trn_dl.device"
   ]
  },
  {
   "cell_type": "code",
   "execution_count": 55,
   "metadata": {},
   "outputs": [
    {
     "data": {
      "application/vnd.jupyter.widget-view+json": {
       "model_id": "7a0ef5b6bfbc4074abbb332ab0508108",
       "version_major": 2,
       "version_minor": 0
      },
      "text/plain": [
       "HBox(children=(IntProgress(value=0, description='Epoch', max=1), HTML(value='')))"
      ]
     },
     "metadata": {},
     "output_type": "display_data"
    },
    {
     "name": "stdout",
     "output_type": "stream",
     "text": [
      " 90%|█████████ | 28/31 [00:07<00:00,  3.92it/s, loss=2.65]\n"
     ]
    }
   ],
   "source": [
    "learner.lr_find()"
   ]
  },
  {
   "cell_type": "code",
   "execution_count": 57,
   "metadata": {},
   "outputs": [
    {
     "data": {
      "image/png": "[encoded data removed]",
      "text/plain": [
       "<Figure size 432x288 with 1 Axes>"
      ]
     },
     "metadata": {},
     "output_type": "display_data"
    }
   ],
   "source": [
    "learner.sched.plot()"
   ]
  },
  {
   "cell_type": "code",
   "execution_count": 72,
   "metadata": {},
   "outputs": [
    {
     "data": {
      "application/vnd.jupyter.widget-view+json": {
       "model_id": "b7859133a6c049f2a7786b38b3e2c84c",
       "version_major": 2,
       "version_minor": 0
      },
      "text/plain": [
       "HBox(children=(IntProgress(value=0, description='Epoch', max=30), HTML(value='')))"
      ]
     },
     "metadata": {},
     "output_type": "display_data"
    },
    {
     "name": "stdout",
     "output_type": "stream",
     "text": [
      " 74%|███████▍  | 23/31 [00:05<00:02,  3.87it/s, loss=0.755]\n",
      "epoch      trn_loss   val_loss   accuracy                  \n",
      "    0      0.672974   4.090332   0.34357   \n",
      "    1      0.472505   0.426548   0.846449                  \n",
      "    2      0.38109    0.419813   0.890595                  \n",
      "    3      0.304422   0.32947    0.890595                  \n",
      "    4      0.257997   2.785977   0.520154                  \n",
      "    5      0.253732   1.980439   0.671785                  \n",
      "    6      0.234668   2.757795   0.556622                  \n",
      "    7      0.24611    7.535696   0.387716                  \n",
      "    8      0.221279   0.516977   0.809981                  \n",
      "    9      0.200999   1.412755   0.798464                  \n",
      "    10     0.186776   2.778348   0.71785                   \n",
      "    11     0.173887   1.544979   0.761996                  \n",
      "    12     0.192643   0.76138    0.852207                  \n",
      "    13     0.16577    0.25055    0.932821                  \n",
      "    14     0.148431   0.415743   0.882917                  \n",
      "    15     0.145665   0.198608   0.942418                  \n",
      "    16     0.121218   0.170669   0.950096                  \n",
      "    17     0.099296   0.118152   0.965451                   \n",
      "    18     0.091788   0.217631   0.913628                   \n",
      "    19     0.086664   0.07181    0.976967                   \n",
      "    20     0.071198   0.07736    0.973129                   \n",
      "    21     0.070516   0.137203   0.942418                   \n",
      "    22     0.062879   0.269719   0.944338                   \n",
      "    23     0.050215   0.055307   0.980806                   \n",
      "    24     0.039993   0.041809   0.986564                   \n",
      "    25     0.032658   0.054018   0.982726                   \n",
      "    26     0.028925   0.038494   0.984645                   \n",
      "    27     0.027118   0.042764   0.988484                   \n",
      "    28     0.02163    0.043382   0.986564                   \n",
      "    29     0.017726   0.039446   0.984645                   \n",
      "\n"
     ]
    },
    {
     "data": {
      "text/plain": [
       "[0.039445828104788534, 0.9846449136276392]"
      ]
     },
     "execution_count": 72,
     "metadata": {},
     "output_type": "execute_result"
    }
   ],
   "source": [
    "learner.fit(2e-3, 1, cycle_len=30, wds=0.1, use_wd_sched=True, use_clr_beta=(10,10,0.95,0.85))"
   ]
  },
  {
   "cell_type": "code",
   "execution_count": 49,
   "metadata": {},
   "outputs": [
    {
     "data": {
      "text/plain": [
       "torch.Size([3, 224, 224])"
      ]
     },
     "execution_count": 49,
     "metadata": {},
     "output_type": "execute_result"
    }
   ],
   "source": [
    "x.size()"
   ]
  },
  {
   "cell_type": "code",
   "execution_count": 54,
   "metadata": {},
   "outputs": [
    {
     "data": {
      "text/plain": [
       "<matplotlib.image.AxesImage at 0x7f565f66d278>"
      ]
     },
     "execution_count": 54,
     "metadata": {},
     "output_type": "execute_result"
    },
    {
     "data": {
      "image/png": "[encoded data removed]",
      "text/plain": [
       "<Figure size 432x288 with 1 Axes>"
      ]
     },
     "metadata": {},
     "output_type": "display_data"
    }
   ],
   "source": [
    "plt.imshow(x.numpy().transpose(1,2,0))"
   ]
  },
  {
   "cell_type": "code",
   "execution_count": null,
   "metadata": {},
   "outputs": [],
   "source": []
  },
  {
   "cell_type": "code",
   "execution_count": null,
   "metadata": {},
   "outputs": [],
   "source": [
    "class DeviceDataLoader1():\n",
    "    def __init__(self, dl, device, stats):\n",
    "        self.dl,self.device = dl,device\n",
    "        self.m, self.s = map(lambda x:torch.tensor(x, dtype=torch.float32, device=device), stats)\n",
    "        \n",
    "    def __iter__(self):\n",
    "        for xb, yb in self.dl:\n",
    "            xb.add_(-1, self.m[None,:,None,None]).div_(self.s[None,:,None,None])\n",
    "            yield xb,yb\n",
    "    \n",
    "    def __len__(self): return (len(self.dl))"
   ]
  },
  {
   "cell_type": "code",
   "execution_count": null,
   "metadata": {},
   "outputs": [],
   "source": [
    "class DeviceDataLoader1():\n",
    "    def __init__(self, dl, device, stats):\n",
    "        self.dl,self.device = DataPrefetcher(dl),device\n",
    "        self.m, self.s = map(lambda x:torch.tensor(x, dtype=torch.float32, device=device), stats)\n",
    "        \n",
    "    def __iter__(self):\n",
    "        for xb, yb in self.dl:\n",
    "            xb.add_(-1, self.m[None,:,None,None]).div_(self.s[None,:,None,None])\n",
    "            yield xb,yb\n",
    "    \n",
    "    def __len__(self): return (len(self.dl))\n",
    "\n",
    "class DataBunch():\n",
    "    def __init__(self, trn_ds, val_ds, stats, cuda_id, trn_sampler=None, val_sampler=None, bs=64):\n",
    "        if hasattr(trn_ds, 'classes'): self.classes = trn_ds.classes\n",
    "        self.trn_dl = get_dataloader(trn_ds, bs, shuffle=(trn_sampler is None), cuda_id=cuda_id, stats=stats, sampler=trn_sampler)\n",
    "        self.val_dl = get_dataloader(val_ds, bs*2, shuffle=False, cuda_id=cuda_id, stats=stats, sampler=val_sampler)\n",
    "\n",
    "    @classmethod\n",
    "    def from_files(cls, Path, trn_tfms, val_tfms, stats, sz, cuda_id, distrib=False, logs=None, trn_name='train', val_name='valid', bs=64):\n",
    "        trn_ds, val_ds = TransformedFilesDataset(Path/trn_name, sz, trn_tfms), ValTransformedFilesDataset(Path/val_name, sz, val_tfms)\n",
    "        trn_sampler = DistributedSampler(trn_ds) if distrib else None\n",
    "        val_sampler = None #DistributedSampler(val_ds) if distrib else None\n",
    "        return cls(trn_ds, val_ds, stats, cuda_id, trn_sampler, val_sampler, bs)\n",
    "\n",
    "def init_np(id):\n",
    "    seed = (torch.initial_seed() + id) % (2**32)\n",
    "    np.random.seed(seed)\n",
    "\n",
    "def get_dataloader(ds, bs, shuffle, cuda_id, stats, sampler):\n",
    "    device = torch.device('cuda', cuda_id)\n",
    "    dl = DataLoader1(ds, batch_size=bs, shuffle=shuffle,num_workers=8, sampler=sampler, pin_memory=True, worker_init_fn=init_np)\n",
    "    return DeviceDataLoader1(dl, device, stats)\n"
   ]
  }
 ],
 "metadata": {
  "kernelspec": {
   "display_name": "Python 3",
   "language": "python",
   "name": "python3"
  },
  "language_info": {
   "codemirror_mode": {
    "name": "ipython",
    "version": 3
   },
   "file_extension": ".py",
   "mimetype": "text/x-python",
   "name": "python",
   "nbconvert_exporter": "python",
   "pygments_lexer": "ipython3",
   "version": "3.6.5"
  }
 },
 "nbformat": 4,
 "nbformat_minor": 2
}
